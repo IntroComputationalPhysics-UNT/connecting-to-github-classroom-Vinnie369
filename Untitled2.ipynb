{
  "nbformat": 4,
  "nbformat_minor": 0,
  "metadata": {
    "colab": {
      "provenance": [],
      "authorship_tag": "ABX9TyORngKZIrMfrzZBOZL2Y1PW",
      "include_colab_link": true
    },
    "kernelspec": {
      "name": "python3",
      "display_name": "Python 3"
    },
    "language_info": {
      "name": "python"
    }
  },
  "cells": [
    {
      "cell_type": "markdown",
      "metadata": {
        "id": "view-in-github",
        "colab_type": "text"
      },
      "source": [
        "<a href=\"https://colab.research.google.com/github/IntroComputationalPhysics-UNT/connecting-to-github-classroom-Vinnie369/blob/main/Untitled2.ipynb\" target=\"_parent\"><img src=\"https://colab.research.google.com/assets/colab-badge.svg\" alt=\"Open In Colab\"/></a>"
      ]
    },
    {
      "cell_type": "code",
      "source": [
        "# Exercise 1\n",
        "print('Nice to meet you!')"
      ],
      "metadata": {
        "colab": {
          "base_uri": "https://localhost:8080/"
        },
        "id": "BBeFm9UTRXXC",
        "outputId": "dac0c468-2fe9-43a5-8b29-9812ef2799d2"
      },
      "execution_count": 1,
      "outputs": [
        {
          "output_type": "stream",
          "name": "stdout",
          "text": [
            "Nice to meet you!\n"
          ]
        }
      ]
    },
    {
      "cell_type": "markdown",
      "source": [
        "My name is Vincent Purnama and I am a Junior at the University of North Texas."
      ],
      "metadata": {
        "id": "sAy1JYAlRXHZ"
      }
    },
    {
      "cell_type": "code",
      "source": [
        "# Exercise 2\n",
        "N = 'Vincent Purnama'\n",
        "print('Hello,', N)"
      ],
      "metadata": {
        "colab": {
          "base_uri": "https://localhost:8080/"
        },
        "id": "HI16vTVFVcEd",
        "outputId": "db9ffe73-9a09-40ca-c32c-b67a3cc83c92"
      },
      "execution_count": 2,
      "outputs": [
        {
          "output_type": "stream",
          "name": "stdout",
          "text": [
            "Hello, Vincent Purnama\n"
          ]
        }
      ]
    },
    {
      "cell_type": "code",
      "source": [
        "# Exercise 3\n",
        "my_list = [1, 2, 3, 4, 5]\n",
        "print(sum(my_list))\n",
        "print(len(my_list))"
      ],
      "metadata": {
        "colab": {
          "base_uri": "https://localhost:8080/"
        },
        "id": "rDL63IvqaYO2",
        "outputId": "9622827a-4a41-4df9-9836-9bbc440dfc00"
      },
      "execution_count": 3,
      "outputs": [
        {
          "output_type": "stream",
          "name": "stdout",
          "text": [
            "15\n",
            "5\n"
          ]
        }
      ]
    }
  ]
}