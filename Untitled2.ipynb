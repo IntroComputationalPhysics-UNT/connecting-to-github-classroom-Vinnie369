{
  "nbformat": 4,
  "nbformat_minor": 0,
  "metadata": {
    "colab": {
      "provenance": [],
      "authorship_tag": "ABX9TyNCXuyAqNeUHi7l1Y0xB+Gv",
      "include_colab_link": true
    },
    "kernelspec": {
      "name": "python3",
      "display_name": "Python 3"
    },
    "language_info": {
      "name": "python"
    }
  },
  "cells": [
    {
      "cell_type": "markdown",
      "metadata": {
        "id": "view-in-github",
        "colab_type": "text"
      },
      "source": [
        "<a href=\"https://colab.research.google.com/github/IntroComputationalPhysics-UNT/connecting-to-github-classroom-Vinnie369/blob/main/Untitled2.ipynb\" target=\"_parent\"><img src=\"https://colab.research.google.com/assets/colab-badge.svg\" alt=\"Open In Colab\"/></a>"
      ]
    },
    {
      "cell_type": "code",
      "source": [
        "# Exercise 1\n",
        "print('Nice to meet you!')"
      ],
      "metadata": {
        "colab": {
          "base_uri": "https://localhost:8080/"
        },
        "id": "BBeFm9UTRXXC",
        "outputId": "755cbbee-58bc-43c9-daa6-c2cc60bca3da"
      },
      "execution_count": 1,
      "outputs": [
        {
          "output_type": "stream",
          "name": "stdout",
          "text": [
            "Nice to meet you!\n"
          ]
        }
      ]
    },
    {
      "cell_type": "markdown",
      "source": [
        "My name is Vincent Purnama and I am a Junior at the University of North Texas."
      ],
      "metadata": {
        "id": "sAy1JYAlRXHZ"
      }
    },
    {
      "cell_type": "code",
      "source": [
        "# Exercise 2\n",
        "N = 'Vincent Purnama'\n",
        "print('Hello,', N)"
      ],
      "metadata": {
        "colab": {
          "base_uri": "https://localhost:8080/"
        },
        "id": "HI16vTVFVcEd",
        "outputId": "a08a031e-7951-47aa-ca5a-621e4c383de6"
      },
      "execution_count": 4,
      "outputs": [
        {
          "output_type": "stream",
          "name": "stdout",
          "text": [
            "Hello, Vincent Purnama\n"
          ]
        }
      ]
    }
  ]
}